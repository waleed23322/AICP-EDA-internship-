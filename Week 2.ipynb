{
 "cells": [
  {
   "cell_type": "code",
   "execution_count": 1,
   "id": "9646b5ca",
   "metadata": {},
   "outputs": [],
   "source": [
    "import pandas as pd "
   ]
  },
  {
   "cell_type": "code",
   "execution_count": 2,
   "id": "6f0707a7",
   "metadata": {},
   "outputs": [
    {
     "name": "stdout",
     "output_type": "stream",
     "text": [
      "a    a\n",
      "X    X\n",
      "C    C\n",
      "2    2\n",
      "e    e\n",
      "dtype: object\n"
     ]
    }
   ],
   "source": [
    "# Create a list of data\n",
    "data = ['a', 'X', 'C', 2, 'e']\n",
    "\n",
    "# Create a list of corresponding labels\n",
    "labels = ['a', 'X', 'C', 2, 'e']\n",
    "\n",
    "# Create a Pandas Series from the data and labels\n",
    "s = pd.Series(data, index=labels)\n",
    "\n",
    "# Print the Series\n",
    "print(s)"
   ]
  },
  {
   "cell_type": "code",
   "execution_count": 3,
   "id": "f266f325",
   "metadata": {},
   "outputs": [
    {
     "name": "stdout",
     "output_type": "stream",
     "text": [
      "Bilal     42\n",
      "Ayesha    38\n",
      "Hadia     39\n",
      "dtype: int64\n"
     ]
    }
   ],
   "source": [
    "# Create a dictionary with data\n",
    "data = {'Bilal': 42, 'Ayesha': 38, 'Hadia': 39}\n",
    "\n",
    "# Create a Pandas Series from the dictionary\n",
    "s = pd.Series(data)\n",
    "\n",
    "# Print the Series\n",
    "print(s)"
   ]
  },
  {
   "cell_type": "code",
   "execution_count": 4,
   "id": "d3ae31a1",
   "metadata": {},
   "outputs": [
    {
     "name": "stdout",
     "output_type": "stream",
     "text": [
      "        day  temperature  windspeed  event\n",
      "0  1/1/2017           32          6   Rain\n",
      "1  1/2/2017           35          7  Sunny\n",
      "2  1/3/2017           28          2   Snow\n",
      "3  1/4/2017           24          7   Snow\n",
      "4  1/5/2017           32          4   Rain\n",
      "5  1/6/2017           31          2  Sunny\n"
     ]
    }
   ],
   "source": [
    "# Create a dictionary with data\n",
    "data = {'day': ['1/1/2017', '1/2/2017', '1/3/2017', '1/4/2017', '1/5/2017', '1/6/2017'],\n",
    "        'temperature': [32, 35, 28, 24, 32, 31],\n",
    "        'windspeed': [6, 7, 2, 7, 4, 2],\n",
    "        'event': ['Rain', 'Sunny', 'Snow', 'Snow', 'Rain', 'Sunny']}\n",
    "\n",
    "# Create a DataFrame from the dictionary\n",
    "df = pd.DataFrame(data)\n",
    "\n",
    "# Print the DataFrame\n",
    "print(df)"
   ]
  },
  {
   "cell_type": "code",
   "execution_count": 5,
   "id": "c714ad0e",
   "metadata": {},
   "outputs": [
    {
     "name": "stdout",
     "output_type": "stream",
     "text": [
      "        day  temperature  windspeed  event\n",
      "a  1/1/2017           32          6   Rain\n",
      "b  1/2/2017           35          7  Sunny\n",
      "c  1/3/2017           28          2   Snow\n",
      "d  1/4/2017           24          7   Snow\n",
      "e  1/5/2017           32          4   Rain\n",
      "f  1/6/2017           31          2  Sunny\n"
     ]
    }
   ],
   "source": [
    "# Set custom index from 'a' to 'f'\n",
    "df.index = ['a', 'b', 'c', 'd', 'e', 'f']\n",
    "\n",
    "# Print the DataFrame\n",
    "print(df)"
   ]
  },
  {
   "cell_type": "code",
   "execution_count": 6,
   "id": "91f0fb0f",
   "metadata": {},
   "outputs": [
    {
     "name": "stdout",
     "output_type": "stream",
     "text": [
      "count     6.000000\n",
      "mean     30.333333\n",
      "std       3.829708\n",
      "min      24.000000\n",
      "25%      28.750000\n",
      "50%      31.500000\n",
      "75%      32.000000\n",
      "max      35.000000\n",
      "Name: temperature, dtype: float64\n"
     ]
    }
   ],
   "source": [
    "# Descriptive statistics for temperature\n",
    "print(df['temperature'].describe())"
   ]
  },
  {
   "cell_type": "code",
   "execution_count": 10,
   "id": "68f2ccd0",
   "metadata": {},
   "outputs": [
    {
     "name": "stdout",
     "output_type": "stream",
     "text": [
      "                                First Name                       Email  \\\n",
      "Sex    Job Title                                                         \n",
      "Female Phytotherapist              Phillip       bethany14@example.com   \n",
      "Male   Homeopath                  Kristine       bthompson@example.com   \n",
      "       Market researcher           Yesenia   kaitlinkaiser@example.com   \n",
      "       Waste management officer       Erin         tconner@example.org   \n",
      "Female Intelligence analyst      Katherine     conniecowan@example.com   \n",
      "...                                    ...                         ...   \n",
      "       Software engineer            Dennis         bmartin@example.org   \n",
      "       Barrister                     Steve       latasha46@example.net   \n",
      "Male   Police officer               Wesley        regina11@example.org   \n",
      "Female Broadcast journalist         Summer  alexiscantrell@example.org   \n",
      "Male   IT sales professional        Mariah       pcopeland@example.org   \n",
      "\n",
      "                                                 Phone  \n",
      "Sex    Job Title                                        \n",
      "Female Phytotherapist                214.112.6044x4913  \n",
      "Male   Homeopath                          277.609.7938  \n",
      "       Market researcher                  584.094.6111  \n",
      "       Waste management officer  001-171-649-9856x5553  \n",
      "Female Intelligence analyst      +1-773-151-6685x49162  \n",
      "...                                                ...  \n",
      "       Software engineer          001-095-524-2112x257  \n",
      "       Barrister                      001-865-478-5157  \n",
      "Male   Police officer               995-542-3004x76800  \n",
      "Female Broadcast journalist       001-273-685-6932x092  \n",
      "Male   IT sales professional       (341)594-6554x44657  \n",
      "\n",
      "[98 rows x 3 columns]\n"
     ]
    }
   ],
   "source": [
    "# Importing CSV with specific columns and setting 'Sex' and 'Job Title' as index columns\n",
    "people_df = pd.read_csv('people.csv', usecols=[\"First Name\", \"Sex\", \"Email\", \"Phone\", \"Job Title\"], index_col=[\"Sex\", \"Job Title\"], skiprows=[1, 5])\n",
    "\n",
    "# Exporting the modified DataFrame\n",
    "people_df.to_csv('NewPeople.csv')\n",
    "print(people_df)"
   ]
  },
  {
   "cell_type": "code",
   "execution_count": 11,
   "id": "3a5acc7b",
   "metadata": {},
   "outputs": [
    {
     "name": "stdout",
     "output_type": "stream",
     "text": [
      "    Bilal\n",
      "0  Sufyan\n",
      "1   Saiqa\n",
      "2   Aimen\n"
     ]
    }
   ],
   "source": [
    "# Importing Excel sheet with specified columns and header\n",
    "sample_work_df = pd.read_excel('SampleWork.xlsx', sheet_name='Sheet1', usecols=[0, -1], skiprows=[1], header=1)\n",
    "\n",
    "# Exporting the modified DataFrame as a new sheet\n",
    "sample_work_df.to_excel('ModifiedSampleWork.xlsx', index=False)\n",
    "print(sample_work_df)"
   ]
  },
  {
   "cell_type": "code",
   "execution_count": 12,
   "id": "db2d818f",
   "metadata": {},
   "outputs": [
    {
     "name": "stdout",
     "output_type": "stream",
     "text": [
      "       Qualification  Height\n",
      "Name                        \n",
      "Ali          Masters     5.1\n",
      "Hifza      Bachelors     6.2\n",
      "Kamran     Bachelors     5.2\n",
      "Sara         Masters     5.1\n"
     ]
    }
   ],
   "source": [
    "# Creating DataFrame AICP_DF\n",
    "data = {\n",
    "    'Name': ['Ali', 'Hifza', 'Bilal', 'Kamran', 'Sara'],\n",
    "    'Qualification': ['Masters', 'Bachelors', 'PhD', 'Bachelors', 'Masters']\n",
    "}\n",
    "AICP_DF = pd.DataFrame(data)\n",
    "\n",
    "# Saving 'Name' and 'Qualification' columns to df1\n",
    "df1 = AICP_DF[['Name', 'Qualification']]\n",
    "\n",
    "# Adding a new column \"Height\" to AICP_DF\n",
    "AICP_DF['Height'] = [5.1, 6.2, 5.1, 5.2, 5.1]\n",
    "\n",
    "# Setting 'Name' column as index\n",
    "AICP_DF.set_index('Name', inplace=True)\n",
    "\n",
    "# Retrieving row with index \"Hifza\"\n",
    "row_hifza = AICP_DF.loc['Hifza']\n",
    "\n",
    "# Retrieving row with index 3\n",
    "row_index_3 = AICP_DF.iloc[2]\n",
    "\n",
    "# Dropping row with index \"Bilal\"\n",
    "AICP_DF.drop(index='Bilal', inplace=True)\n",
    "print(AICP_DF)"
   ]
  },
  {
   "cell_type": "code",
   "execution_count": null,
   "id": "a4c70fe7",
   "metadata": {},
   "outputs": [],
   "source": []
  }
 ],
 "metadata": {
  "kernelspec": {
   "display_name": "Python 3 (ipykernel)",
   "language": "python",
   "name": "python3"
  },
  "language_info": {
   "codemirror_mode": {
    "name": "ipython",
    "version": 3
   },
   "file_extension": ".py",
   "mimetype": "text/x-python",
   "name": "python",
   "nbconvert_exporter": "python",
   "pygments_lexer": "ipython3",
   "version": "3.11.5"
  }
 },
 "nbformat": 4,
 "nbformat_minor": 5
}
