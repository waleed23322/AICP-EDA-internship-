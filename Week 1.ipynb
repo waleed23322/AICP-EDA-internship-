{
  "metadata": {
    "kernelspec": {
      "name": "python",
      "display_name": "Python (Pyodide)",
      "language": "python"
    },
    "language_info": {
      "codemirror_mode": {
        "name": "python",
        "version": 3
      },
      "file_extension": ".py",
      "mimetype": "text/x-python",
      "name": "python",
      "nbconvert_exporter": "python",
      "pygments_lexer": "ipython3",
      "version": "3.8"
    }
  },
  "nbformat_minor": 4,
  "nbformat": 4,
  "cells": [
    {
      "cell_type": "code",
      "source": "import numpy as np",
      "metadata": {
        "trusted": true
      },
      "outputs": [],
      "execution_count": 1
    },
    {
      "cell_type": "code",
      "source": "# 1. Create an array of all even integers from 30 to 70\neven_integers = np.arange(30, 71, 2)\nprint(\"Even integers from 30 to 70:\\n\", even_integers)",
      "metadata": {
        "trusted": true
      },
      "outputs": [
        {
          "name": "stdout",
          "text": "Even integers from 30 to 70:\n [30 32 34 36 38 40 42 44 46 48 50 52 54 56 58 60 62 64 66 68 70]\n",
          "output_type": "stream"
        }
      ],
      "execution_count": 4
    },
    {
      "cell_type": "code",
      "source": "# 2. Generate an array of 15 random numbers from a standard normal distribution\nrandom_normal = np.random.randn(15)\nprint(\"\\n15 random numbers from a standard normal distribution:\\n\", random_normal)\n",
      "metadata": {
        "trusted": true
      },
      "outputs": [
        {
          "name": "stdout",
          "text": "\n15 random numbers from a standard normal distribution:\n [ 1.27113841 -2.02769505 -0.59488865  1.25964142 -0.57273112  0.66632531\n -0.24122577  0.4670089  -0.70597357  0.39456966 -0.83156389 -0.20715808\n -2.16505205 -0.11854482  0.14282936]\n",
          "output_type": "stream"
        }
      ],
      "execution_count": 5
    },
    {
      "cell_type": "code",
      "source": "# 3. Compute the cross-product of two matrices\nA = np.array([[1, 2, 3], [4, 5, 6], [7, 8, 9]])\nB = np.array([[9, 8, 7], [6, 5, 4], [3, 2, 1]])\ncross_product = np.cross(A, B)\nprint(\"\\nCross-product of two matrices:\\n\", cross_product)",
      "metadata": {
        "trusted": true
      },
      "outputs": [
        {
          "name": "stdout",
          "text": "\nCross-product of two matrices:\n [[-10  20 -10]\n [-10  20 -10]\n [-10  20 -10]]\n",
          "output_type": "stream"
        }
      ],
      "execution_count": 6
    },
    {
      "cell_type": "code",
      "source": "# 4. Compute the determinant of an array\ndeterminant = np.linalg.det(A)\nprint(\"\\nDeterminant of the array:\\n\", determinant)",
      "metadata": {
        "trusted": true
      },
      "outputs": [
        {
          "name": "stdout",
          "text": "\nDeterminant of the array:\n 6.66133814775094e-16\n",
          "output_type": "stream"
        }
      ],
      "execution_count": 7
    },
    {
      "cell_type": "code",
      "source": "# 5. Create a 3x3x3 array with random values\nrandom_3x3x3 = np.random.random((3, 3, 3))\nprint(\"\\n3x3x3 array with random values:\\n\", random_3x3x3)",
      "metadata": {
        "trusted": true
      },
      "outputs": [
        {
          "name": "stdout",
          "text": "\n3x3x3 array with random values:\n [[[0.31357012 0.3392987  0.29186629]\n  [0.64975695 0.40594046 0.45351945]\n  [0.56407708 0.35647967 0.81816123]]\n\n [[0.61028185 0.4515591  0.32371233]\n  [0.02152192 0.20036898 0.29918885]\n  [0.90545189 0.60749202 0.13756426]]\n\n [[0.28631791 0.32660209 0.43781035]\n  [0.37278789 0.01244357 0.78458628]\n  [0.72461079 0.0714274  0.3072434 ]]]\n",
          "output_type": "stream"
        }
      ],
      "execution_count": 8
    },
    {
      "cell_type": "code",
      "source": "# 6. Create a 5x5 array with random values and find the minimum and maximum values\nrandom_5x5 = np.random.random((5, 5))\nmin_value = random_5x5.min()\nmax_value = random_5x5.max()\nprint(\"\\n5x5 array with random values:\\n\", random_5x5)\nprint(\"Minimum value:\", min_value)\nprint(\"Maximum value:\", max_value)",
      "metadata": {
        "trusted": true
      },
      "outputs": [
        {
          "name": "stdout",
          "text": "\n5x5 array with random values:\n [[0.07752027 0.35017412 0.46772229 0.32651022 0.95468431]\n [0.98186729 0.77936469 0.69695148 0.24508492 0.07151471]\n [0.97105288 0.1757296  0.15748796 0.44525476 0.64447315]\n [0.38542373 0.19242293 0.475932   0.32169366 0.01520368]\n [0.02925269 0.3091196  0.51407351 0.41421446 0.8710864 ]]\nMinimum value: 0.015203684793382743\nMaximum value: 0.9818672868857878\n",
          "output_type": "stream"
        }
      ],
      "execution_count": 9
    },
    {
      "cell_type": "code",
      "source": "# 7. Compute the mean, standard deviation, and variance along the second axis\nC = np.array([[1, 2, 3], [4, 5, 6], [7, 8, 9]])\nmean_axis_2 = np.mean(C, axis=1)\nstd_dev_axis_2 = np.std(C, axis=1)\nvariance_axis_2 = np.var(C, axis=1)\nprint(\"\\nMean along the second axis:\\n\", mean_axis_2)\nprint(\"Standard deviation along the second axis:\\n\", std_dev_axis_2)\nprint(\"Variance along the second axis:\\n\", variance_axis_2)",
      "metadata": {
        "trusted": true
      },
      "outputs": [
        {
          "name": "stdout",
          "text": "\nMean along the second axis:\n [2. 5. 8.]\nStandard deviation along the second axis:\n [0.81649658 0.81649658 0.81649658]\nVariance along the second axis:\n [0.66666667 0.66666667 0.66666667]\n",
          "output_type": "stream"
        }
      ],
      "execution_count": 10
    }
  ]
}